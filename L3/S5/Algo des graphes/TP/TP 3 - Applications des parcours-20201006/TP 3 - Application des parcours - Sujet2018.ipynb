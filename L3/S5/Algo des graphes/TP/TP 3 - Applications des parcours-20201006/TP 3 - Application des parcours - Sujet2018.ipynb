{
 "cells": [
  {
   "cell_type": "markdown",
   "metadata": {},
   "source": [
    "# TP 3 - Applications des parcours\n",
    "\n",
    "#### Théorie et Algorithmique des Graphes \n",
    "#### L3 INFO - Semestre 6\n",
    "\n",
    "\n",
    "Le but de ce TP est de mettre en œuvre les principales applications des parcours en largeur ou profondeur dans le traitement des graphes orientés ou non orientés. \n",
    "\n",
    "Les exemples que nous utiliserons pour tester les fonctions :"
   ]
  },
  {
   "cell_type": "code",
   "execution_count": 1,
   "metadata": {
    "collapsed": true
   },
   "outputs": [],
   "source": [
    "import vect\n",
    "\n",
    "G1=[[],[2],[1,3,7],[2],[7],[7],[7],[2,4,5,6]] # arbre\n",
    "G2=[[],[2,4],[1,3,7],[2],[1,7],[7],[7],[2,4,5,6]] # connexe cyclique\n",
    "G3=[[],[2],[1,3],[2],[7],[7],[7],[4,5,6]] # pas connexe pas cyclique\n",
    "G4=[[],[2],[1,3],[2],[5,7],[4,7],[7],[4,5,6]] #pas connexe cyclique"
   ]
  },
  {
   "cell_type": "markdown",
   "metadata": {},
   "source": [
    "## Graphes non orientés\n",
    "\n",
    "Le parcours d'un graphe non orienté permet, à l'aide de modifications mineures, de fournir de nombreux renseignements sur le graphe. \n",
    "\n",
    "\n",
    "### 1 - Tester la connexité d'un graphe à l'aide d'un parcours en profondeur\n",
    "\n",
    "Un graphe non orienté est connexe si et seulement si le parcours en profondeur à partir du sommet $1$ visite tous les sommets. \n",
    " \n",
    "\t\n",
    "$\\rightsquigarrow$ Ecrire une fonction booléenne isConnexe(G) déterminant si un graphe $G$ est connexe."
   ]
  },
  {
   "cell_type": "code",
   "execution_count": 2,
   "metadata": {
    "collapsed": true
   },
   "outputs": [],
   "source": [
    "#On reprend le parcours récursif en profondeur du TP précédent\n",
    "def profRec(G,i,Visite,ordreVisite):\n",
    "    ordreVisite.append(i)\n",
    "    Visite[i]=1\n",
    "    for j in G[i]:\n",
    "        if Visite[j]==0:\n",
    "            profRec(G,j,Visite,ordreVisite)\n",
    "            \n",
    "# Fonction isConnexe(G) :\n",
    "def isConnexe(G):\n",
    "    #à compléter"
   ]
  },
  {
   "cell_type": "code",
   "execution_count": 3,
   "metadata": {
    "collapsed": false
   },
   "outputs": [
    {
     "name": "stdout",
     "output_type": "stream",
     "text": [
      "Les graphes sont-ils connexes?\n",
      "True True False False\n"
     ]
    }
   ],
   "source": [
    "# Les tests :\n",
    "print(\"Les graphes sont-ils connexes?\")\n",
    "print(isConnexe(G1),isConnexe(G2),isConnexe(G3),isConnexe(G4))"
   ]
  },
  {
   "cell_type": "markdown",
   "metadata": {},
   "source": [
    "### 2 - Tester l'existence de cycles à l'aide d'un parcours en profondeur généralisé\n",
    "\n",
    "Un graphe non orienté $G$ ne contient pas de cycle si et seulement si le parcours (généralisé à tout le graphe car un cycle peut apparaître dans n'importe quelle composante connexe) ne provoque pas de revisite (autre que celle du père). On doit donc introduire un deuxième paramètre à la fonction pour se rappeler du numéro du père. \\\\ \n",
    "On utilise également une variable booléenne \\texttt{cycle} qui sera vrai si et seulement si on a détecté un cycle.  \n",
    "\t\n",
    "$\\rightsquigarrow$ Ecrire une fonction cyclicRec(G,i,pere,Visite,cycle) : qui effectue un parcours en profondeur du sommet $i$ (dont le père est pere) en mettant à jour les variables Visite et cycle. Dès qu'un cycle est détecté, il faut arrêter tous les parcours en cours. "
   ]
  },
  {
   "cell_type": "code",
   "execution_count": 4,
   "metadata": {
    "collapsed": true
   },
   "outputs": [],
   "source": [
    "def cyclicRec(G,i,pere,Visite,cycle):\n",
    "    # à compléter"
   ]
  },
  {
   "cell_type": "markdown",
   "metadata": {},
   "source": [
    "$\\rightsquigarrow$ Ecrire une fonction isCyclic(G) qui initialise les variables et gère le parcours en profondeur généralisé à tout le graphe. \n",
    "\t"
   ]
  },
  {
   "cell_type": "code",
   "execution_count": 5,
   "metadata": {
    "collapsed": true
   },
   "outputs": [],
   "source": [
    "def isCyclic(G):\n",
    "    # à compléter"
   ]
  },
  {
   "cell_type": "code",
   "execution_count": 6,
   "metadata": {
    "collapsed": false
   },
   "outputs": [
    {
     "name": "stdout",
     "output_type": "stream",
     "text": [
      "Les graphes sont-ils cycliques?\n",
      "False True False True\n"
     ]
    }
   ],
   "source": [
    "# Les tests :\n",
    "print(\"Les graphes sont-ils cycliques?\")    \n",
    "print(isCyclic(G1),isCyclic(G2),isCyclic(G3),isCyclic(G4))"
   ]
  },
  {
   "cell_type": "markdown",
   "metadata": {},
   "source": [
    "### 3 - Test d'arbre\n",
    "\n",
    "Un graphe non orienté est un arbre si et seulement si il est connexe et sans cycle.  \n",
    "\t\n",
    "$\\rightsquigarrow$ Ecrire une fonction booléenne isArbre(G) qui renvoie true si et seulement si $G$ est un arbre. "
   ]
  },
  {
   "cell_type": "code",
   "execution_count": 7,
   "metadata": {
    "collapsed": true
   },
   "outputs": [],
   "source": [
    "def isArbre(G):\n",
    "    # à compléter"
   ]
  },
  {
   "cell_type": "code",
   "execution_count": 8,
   "metadata": {
    "collapsed": false
   },
   "outputs": [
    {
     "name": "stdout",
     "output_type": "stream",
     "text": [
      "Les graphes sont-ils des arbres?\n",
      "True False False False\n"
     ]
    }
   ],
   "source": [
    "# Les tests\n",
    "print(\"Les graphes sont-ils des arbres?\") \n",
    "print(isArbre(G1) ,isArbre(G2),isArbre(G3),isArbre(G4)) "
   ]
  },
  {
   "cell_type": "markdown",
   "metadata": {},
   "source": [
    "### 4 - Recherche des plus courts chemins à l'aide d'un parcours en largeur\n",
    "\n",
    "Comme vu en cours, on utilise un vecteur Dist tel que Dist[y] est la longueur du plus court chemin de $x$ vers $y$ (ou la valeur $-1$ si $y$ n'est pas accessible à partir de $x$). Afin de retrouver le chemin, on utilise également un tableau des pères tel que Pere[y] est le prédécesseur de $y$ dans le plus court chemin de $x$ vers $y$.  \n",
    "\t\n",
    "$\\rightsquigarrow$ Ecrire une fonction plusCourtChemin(G,i) qui retourne les vecteurs Dist et Pere donnant les plus courts chemins issus du sommet $i$. "
   ]
  },
  {
   "cell_type": "code",
   "execution_count": 9,
   "metadata": {
    "collapsed": true
   },
   "outputs": [],
   "source": [
    "def plusCourtChemin(G,i):\n",
    "    # à compléter"
   ]
  },
  {
   "cell_type": "code",
   "execution_count": 10,
   "metadata": {
    "collapsed": false
   },
   "outputs": [
    {
     "name": "stdout",
     "output_type": "stream",
     "text": [
      "Plus courts chemins issus du sommet 1\n",
      "([-1, 0, 1, 2, 1, 3, 3, 2], [-1, 1, 1, 2, 1, 7, 7, 2])\n"
     ]
    }
   ],
   "source": [
    "# Le test\n",
    "print(\"Plus courts chemins issus du sommet 1\")\n",
    "print(plusCourtChemin(G2,1))"
   ]
  },
  {
   "cell_type": "markdown",
   "metadata": {},
   "source": [
    "### 5 - Test de bipartisme à l'aide d'un parcours en largeur généralisé\n",
    "\n",
    "On a vu en cours qu'un graphe est biparti si et seulement si il n'admet pas de cycle de longueur impaire. L'algorithme de recherche de cycle peut donc être adapté en test de bipartisme. Il suffit pour cela de numéroter alternativement à l'aide de $1$ et $2$ les sommets visités. Un cycle de longueur impaire est détecté lorsque $x$ revisite un sommet $y$ de même numéro que lui. \n",
    "\n",
    "On utilise pour cela le vecteur de visite qui vaudra $0$ pour un sommet non visité, et alternativement $1$ ou $2$ pour les sommets visités. \n",
    "\n",
    "L'ensemble $X$ est alors l'ensemble des sommets à $1$ et $Y$ l'ensemble des sommets à $2$. \n",
    "\t\n",
    "$\\rightsquigarrow$ Ecrire une fonction booléenne biparti(G) qui renvoie true si et seulement si le graphe est biparti et les ensembles $X$ et $Y$ (sous forme de listes). "
   ]
  },
  {
   "cell_type": "code",
   "execution_count": 13,
   "metadata": {
    "collapsed": true
   },
   "outputs": [],
   "source": [
    "def biparti(G):\n",
    "    # à compléter"
   ]
  },
  {
   "cell_type": "code",
   "execution_count": 14,
   "metadata": {
    "collapsed": false
   },
   "outputs": [
    {
     "name": "stdout",
     "output_type": "stream",
     "text": [
      "Tests de bipartisme\n",
      "(True, [1, 3, 7], [2, 4, 5, 6]) (True, [1, 3, 7], [2, 4, 5, 6]) (True, [1, 3, 4, 5, 6], [2, 7]) False\n"
     ]
    }
   ],
   "source": [
    "# Les tests\n",
    "print(\"Tests de bipartisme\")\n",
    "print(biparti(G1),biparti(G2),biparti(G3),biparti(G4))"
   ]
  },
  {
   "cell_type": "markdown",
   "metadata": {},
   "source": [
    "## Graphes orientés\n",
    "\n",
    "Si la recherche des plus courts chemins ne diffère pas du cas non orienté, en revanche la recherche de cycle est très différente. \n",
    "\n",
    "En effet dans le cas d'un graphe orienté, les cycles sont caractérisés par les arcs arrières mais il ne faut pas tenir compte des revisites par arcs transverses ou en avant. Un arc arrière est caractérisé par le fait qu'on revisite un sommet dont le parcours en profondeur n'est pas encore terminé. \n",
    "\n",
    "On utilise pour ça le vecteur de visite qui vaut $0$ avant la visite, $1$ quand la visite commence et $2$ lorsque le parcours est terminé. \n",
    "\n",
    "### 1 - Tester l'existence de cycles à l'aide d'un parcours en profondeur\n",
    "\n",
    "$\\rightsquigarrow$ Ecrire une fonction cyclicRec(G,i,Visite,cycle) qui effectue un parcours en profondeur du sommet $i$ en mettant à jour les variables Visite et cycle. Dès qu'un cycle est détecté, il faut arrêter tous les parcours en cours.  "
   ]
  },
  {
   "cell_type": "code",
   "execution_count": 16,
   "metadata": {
    "collapsed": false
   },
   "outputs": [],
   "source": [
    "def cyclicRec(G,i,Visite,cycle):\n",
    "    # à compléter"
   ]
  },
  {
   "cell_type": "markdown",
   "metadata": {},
   "source": [
    "$\\rightsquigarrow$ Ecrire une fonction isCyclic(G) qui initialise les variables et gère le parcours en profondeur généralisé à tout le graphe. "
   ]
  },
  {
   "cell_type": "code",
   "execution_count": 17,
   "metadata": {
    "collapsed": true
   },
   "outputs": [],
   "source": [
    "def isCyclic(G):\n",
    "    # à compléter"
   ]
  },
  {
   "cell_type": "code",
   "execution_count": 19,
   "metadata": {
    "collapsed": false
   },
   "outputs": [
    {
     "name": "stdout",
     "output_type": "stream",
     "text": [
      "Le graphes admet-il un cycle ?\n",
      "Cycle détecté par l'arête en arrière 2 1\n",
      "True\n",
      "False\n"
     ]
    }
   ],
   "source": [
    "# Les graphes tests\n",
    "G1=[[],[3,4,5,6],[1],[2,4],[],[],[4]]\n",
    "G2=[[],[4,5,6],[1],[2,4],[],[],[4]]\n",
    "# Les tests\n",
    "print(\"Le graphes admet-il un cycle ?\")    \n",
    "print(isCyclic(G1)) \n",
    "print(isCyclic(G2))"
   ]
  },
  {
   "cell_type": "code",
   "execution_count": null,
   "metadata": {
    "collapsed": true
   },
   "outputs": [],
   "source": []
  }
 ],
 "metadata": {
  "kernelspec": {
   "display_name": "Python 3",
   "language": "python",
   "name": "python3"
  },
  "language_info": {
   "codemirror_mode": {
    "name": "ipython",
    "version": 3
   },
   "file_extension": ".py",
   "mimetype": "text/x-python",
   "name": "python",
   "nbconvert_exporter": "python",
   "pygments_lexer": "ipython3",
   "version": "3.6.0"
  }
 },
 "nbformat": 4,
 "nbformat_minor": 2
}
